{
 "cells": [
  {
   "cell_type": "code",
   "execution_count": null,
   "id": "ce7e8700",
   "metadata": {},
   "outputs": [],
   "source": [
    "def main():\n",
    "    spark = pyspark.sql.SparkSession.builder.getOrCreate()\n",
    "\n",
    "    for idx in (\"01\",\"02\",\"03\"):\n",
    "        file = open(f\"/home/jmyeong/tarfile/meta/web_log/{idx}/web_filename.txt\", \"r\")\n",
    "        strings = file.readlines()\n",
    "        for string in strings:\n",
    "            web_log = spark.read.options(inferSchema='True',delimiter=',').csv(f\"hdfs://192.168.56.101:9000/web_log/log_{idx}_final/{string}\")\n",
    "            \n",
    "            # PostgreSQL 적재 \n",
    "            web_log.write.mode(\"append\").jdbc(\"jdbc:postgresql://localhost:5432/superset\", f\"public.web{idx}\",\\\n",
    "                                          properties={\"user\": \"postgres\", \"password\": \"1234\"})\n",
    "            \n",
    "            print(f\"{string}+' 적재완료'\")\n",
    "        file.close()\n",
    "        \n",
    "        \n",
    "if __name__ == '__main__':\n",
    "    main()"
   ]
  }
 ],
 "metadata": {
  "kernelspec": {
   "display_name": "Python 3 (ipykernel)",
   "language": "python",
   "name": "python3"
  },
  "language_info": {
   "codemirror_mode": {
    "name": "ipython",
    "version": 3
   },
   "file_extension": ".py",
   "mimetype": "text/x-python",
   "name": "python",
   "nbconvert_exporter": "python",
   "pygments_lexer": "ipython3",
   "version": "3.9.7"
  }
 },
 "nbformat": 4,
 "nbformat_minor": 5
}
