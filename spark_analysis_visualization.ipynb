{
 "cells": [
  {
   "cell_type": "code",
   "execution_count": 1,
   "id": "af962cab",
   "metadata": {},
   "outputs": [
    {
     "data": {
      "text/plain": [
       "' processing 단계: \\n1. schema를 적용한 Dataframe 형태로 만들기\\n\\n2. User Agents의 browser, OS, device 컬럼생성 및 기존컬럼제거\\n\\n3. 발생할 수 있는 오류 확인 및 제거\\n\\n4. row 제거 \\n- device를 기준으로 제거\\n- browser를 기준으로 제거\\n- os를 기준으로 제거\\n\\n5. column 제거\\n- identifier 제거\\n- go-agent 제거\\n- protocol 제거\\n\\n6. 변환\\n- 처리시간 변환\\n- 요청 시간을 datetime string으로 변환\\n- 형 변환\\n'"
      ]
     },
     "execution_count": 1,
     "metadata": {},
     "output_type": "execute_result"
    }
   ],
   "source": [
    "from pyspark.conf import SparkConf \n",
    "from pyspark.sql.types import StructType, StructField, StringType, IntegerType, FloatType\n",
    "from pyspark.sql import SparkSession\n",
    "from datetime import datetime\n",
    "from dateutil.parser import parse\n",
    "import pyspark.sql.functions as f\n",
    "from pyspark.sql.types import *\n",
    "#from pyspark.sql.types import StructType,StructField, StringType, IntegerType\n",
    "import pyspark\n",
    "import matplotlib.pyplot as plt\n",
    "import pandas as pd\n",
    "import numpy as np\n",
    "import re\n",
    "import os\n",
    "import findspark\n",
    "findspark.find()\n",
    "findspark.init(os.environ.get(\"$SPARK_HOME\"))\n",
    "\n",
    "## UserAgentParser\n",
    "class UserAgentParser: \n",
    "    from user_agents import parse #// VERSION: 2.2.0\n",
    "    from collections import namedtuple\n",
    "    UA3Layers = namedtuple(typename='UA3Layers', field_names=['str_browser_name', 'str_operating_system_name', 'str_hardware_type_name'])\n",
    "    \n",
    "    class HardwareType:\n",
    "        SERVER   = 'Server'\n",
    "        TABLET   = 'Tablet'\n",
    "        PHONE    = 'Phone'\n",
    "        COMPUTER = 'Computer'\n",
    "        OTHER    = 'Other'\n",
    "        \n",
    "    def get_3layers(self, str_user_agent):\n",
    "        user_agent = self.__class__.parse(str_user_agent)\n",
    "        return self.__class__.UA3Layers(self.get_browser_name(user_agent), self.get_operating_system_name(user_agent), self.get_hardware_type(user_agent))\n",
    "    \n",
    "    def get_browser_name(self, user_agent):\n",
    "        \"\"\"\n",
    "        Return: ['Chrome', 'Firefox', 'Opera', 'IE', 'Edge', 'Safari', ...]\n",
    "        변환로직:\n",
    "            'IE Mobile' >>> 'IE'\n",
    "            'Mobile Safari' >>> 'Safari'\n",
    "        \"\"\"\n",
    "        str_browser_name = user_agent.browser.family\n",
    "        str_browser_name = str_browser_name.replace('Mobile', '').strip()\n",
    "        return str_browser_name\n",
    "    \n",
    "    def get_operating_system_name(self, user_agent):\n",
    "        \"\"\"\n",
    "        Return: ['Windows','Linux','Mac OS X','iOS','Android','OpenBSD','BlackBerry OS','Chrome OS',...]\n",
    "        \"\"\"\n",
    "        str_operating_system_name = user_agent.os.family\n",
    "        return str_operating_system_name\n",
    "    \n",
    "    def get_hardware_type(self, user_agent):\n",
    "        if user_agent.is_bot:\n",
    "            str_hardware_type_name = self.__class__.HardwareType.SERVER\n",
    "        elif user_agent.is_tablet:\n",
    "            str_hardware_type_name = self.__class__.HardwareType.TABLET\n",
    "        elif user_agent.is_mobile:\n",
    "            str_hardware_type_name = self.__class__.HardwareType.PHONE\n",
    "        elif user_agent.is_pc:\n",
    "            str_hardware_type_name = self.__class__.HardwareType.COMPUTER\n",
    "        else:\n",
    "            str_hardware_type_name = self.__class__.HardwareType.OTHER\n",
    "        return str_hardware_type_name\n",
    "\n",
    "\n",
    "''' processing 단계: \n",
    "1. schema를 적용한 Dataframe 형태로 만들기\n",
    "\n",
    "2. User Agents의 browser, OS, device 컬럼생성 및 기존컬럼제거\n",
    "\n",
    "3. 발생할 수 있는 오류 확인 및 제거\n",
    "\n",
    "4. row 제거 \n",
    "- device를 기준으로 제거\n",
    "- browser를 기준으로 제거\n",
    "- os를 기준으로 제거\n",
    "\n",
    "5. column 제거\n",
    "- identifier 제거\n",
    "- go-agent 제거\n",
    "- protocol 제거\n",
    "\n",
    "6. 변환\n",
    "- 처리시간 변환\n",
    "- 요청 시간을 datetime string으로 변환\n",
    "- 형 변환\n",
    "'''"
   ]
  },
  {
   "cell_type": "code",
   "execution_count": 4,
   "id": "83c1b753",
   "metadata": {},
   "outputs": [],
   "source": [
    "# 1. schema를 이용한 dataframe 생성\n",
    "columns=[\"IP\",\"identifier\",\"email\",\"time\",\"request\",\"url\",\"protocol\",\"status_code\",\\\n",
    "         \"bytesize\",\"referer\",\"user-agent\",\"go-agent\",\"processing time\"]\n",
    "\n",
    "schema = StructType([ \n",
    "    StructField(\"IP\", StringType(), True), \n",
    "    StructField(\"identifier\", StringType(), True), \n",
    "    StructField(\"email\", StringType(), True),\n",
    "    StructField(\"time\", StringType(), True),\n",
    "    StructField(\"request\", StringType(), True),\n",
    "    StructField(\"url\", StringType(), True),\n",
    "    StructField(\"protocol\", StringType(), True),\n",
    "    StructField(\"status_code\", StringType(), True),\n",
    "    StructField(\"bytesize\", StringType(), True),\n",
    "    StructField(\"referer\", StringType(), True),\n",
    "    StructField(\"user-agent\", StringType(), True),\n",
    "    StructField(\"go-agent\", StringType(), True),\n",
    "    StructField(\"processing time\", StringType(), True),\n",
    "])\n",
    "\n",
    "# 1. schema를 적용한 Dataframe 형태로 만들기\n",
    "spark = pyspark.sql.SparkSession.builder.getOrCreate() # .master('local[*]')\n",
    "web_log = spark.read.csv(f\"hdfs://192.168.56.101:9000/web_log/log_01/access_2022-01-07.txt\",  schema=schema)\n",
    "\n",
    "## -------------------------------------------------------------------"
   ]
  },
  {
   "cell_type": "code",
   "execution_count": 5,
   "id": "b454bdc1",
   "metadata": {},
   "outputs": [],
   "source": [
    "# 2. User Agents의 browser, OS, device 컬럼생성 및 기존컬럼제거\n",
    "\n",
    "def extract_browser(ua_string):\n",
    "    userAgentParser = UserAgentParser()\n",
    "    UA_info = userAgentParser.get_3layers(ua_string)\n",
    "    return UA_info[0]\n",
    "\n",
    "def extract_os(ua_string):\n",
    "    userAgentParser = UserAgentParser()\n",
    "    UA_info = userAgentParser.get_3layers(ua_string)\n",
    "    return UA_info[1]\n",
    "\n",
    "def extract_device(ua_string):\n",
    "    userAgentParser = UserAgentParser()\n",
    "    UA_info = userAgentParser.get_3layers(ua_string)\n",
    "    return UA_info[2]\n",
    "\n",
    "ext_browser_UDF = f.udf(lambda x: extract_browser(x))\n",
    "ext_os_UDF = f.udf(lambda x: extract_os(x))\n",
    "ext_device_UDF = f.udf(lambda x: extract_device(x))\n",
    "\n",
    "web_log = web_log.withColumn(\"browser\", ext_browser_UDF(f.col(\"user-agent\")))\n",
    "web_log = web_log.withColumn(\"os\", ext_os_UDF(f.col(\"user-agent\")))\n",
    "web_log = web_log.withColumn(\"device\", ext_device_UDF(f.col(\"user-agent\")))\n",
    "# web_log = web_log.drop(\"user-agent\")"
   ]
  },
  {
   "cell_type": "code",
   "execution_count": 6,
   "id": "ec3580d8",
   "metadata": {},
   "outputs": [],
   "source": [
    "## -------------------------------------------------------------------\n",
    "\n",
    "# 3. 발생할 수 있는 오류 확인 및 제거\n",
    "web_log = web_log.filter((web_log.time  != \"-\") | (web_log.protocol  == \"HTTP/1.0\") | (web_log.protocol  == \"HTTP/1.1\"))\n",
    "\n",
    "## -------------------------------------------------------------------"
   ]
  },
  {
   "cell_type": "code",
   "execution_count": 7,
   "id": "5bd6e60b",
   "metadata": {},
   "outputs": [
    {
     "name": "stderr",
     "output_type": "stream",
     "text": [
      "                                                                                \r"
     ]
    },
    {
     "data": {
      "text/plain": [
       "1262905"
      ]
     },
     "execution_count": 7,
     "metadata": {},
     "output_type": "execute_result"
    }
   ],
   "source": [
    "web_log.count()"
   ]
  },
  {
   "cell_type": "code",
   "execution_count": 8,
   "id": "c1c63856",
   "metadata": {
    "scrolled": true
   },
   "outputs": [
    {
     "name": "stderr",
     "output_type": "stream",
     "text": [
      "                                                                                \r"
     ]
    }
   ],
   "source": [
    "pd_log = web_log.toPandas()"
   ]
  },
  {
   "cell_type": "code",
   "execution_count": 9,
   "id": "33852914",
   "metadata": {},
   "outputs": [
    {
     "data": {
      "text/plain": [
       "1262905"
      ]
     },
     "execution_count": 9,
     "metadata": {},
     "output_type": "execute_result"
    }
   ],
   "source": [
    "len(pd_log) # 총 개수 "
   ]
  },
  {
   "cell_type": "code",
   "execution_count": 47,
   "id": "6fa3b612",
   "metadata": {},
   "outputs": [
    {
     "data": {
      "image/png": "[encoded data removed]",
      "text/plain": [
       "<Figure size 360x504 with 1 Axes>"
      ]
     },
     "metadata": {
      "needs_background": "light"
     },
     "output_type": "display_data"
    }
   ],
   "source": [
    "# browser\n",
    "plt.rcParams[\"figure.figsize\"] = (5,7)\n",
    "plt.title(\"Use Browser\", fontsize=15)\n",
    "a = pd_log[\"browser\"].value_counts(ascending=True)\n",
    "a.plot.barh(width = 0.5)\n",
    "\n",
    "plt.ylabel(\"Browser\", fontsize=12)\n",
    "plt.xlabel(\"Count\", fontsize=12)\n",
    "plt.show()"
   ]
  },
  {
   "cell_type": "code",
   "execution_count": 52,
   "id": "ec4af2de",
   "metadata": {},
   "outputs": [],
   "source": [
    "select_browser = [\"Chrome\",'Other', 'Whale', 'Safari UI/WKWebView', 'IE', 'Edge', 'Chrome WebView', 'Safari', 'Firefox', 'Outlook', 'Samsung Internet', 'Opera','Chrome iOS','Firefox iOS','Outlook-iOS']\n",
    "\n",
    "# pd_log1 = pd_log[pd_log[\"browser\"].isin(select_browser)]\n",
    "pd_log1 =  pd_log[pd_log[\"browser\"] != \"Electron\"]"
   ]
  },
  {
   "cell_type": "code",
   "execution_count": 54,
   "id": "40dc4eba",
   "metadata": {},
   "outputs": [
    {
     "data": {
      "text/plain": [
       "1056238"
      ]
     },
     "execution_count": 54,
     "metadata": {},
     "output_type": "execute_result"
    }
   ],
   "source": [
    "len(pd_log1)"
   ]
  },
  {
   "cell_type": "code",
   "execution_count": 55,
   "id": "3c4903bd",
   "metadata": {},
   "outputs": [
    {
     "data": {
      "image/png": "[encoded data removed]",
      "text/plain": [
       "<Figure size 360x432 with 1 Axes>"
      ]
     },
     "metadata": {
      "needs_background": "light"
     },
     "output_type": "display_data"
    }
   ],
   "source": [
    "# os \n",
    "plt.rcParams[\"figure.figsize\"] = (5,6)\n",
    "plt.title(\"Use OS\", fontsize=15)\n",
    "pd_log[\"os\"].value_counts(ascending=True).plot.barh(width = 0.5)\n",
    "\n",
    "plt.ylabel(\"OS\", fontsize=12)\n",
    "plt.xlabel(\"Count\", fontsize=12)\n",
    "plt.show()"
   ]
  },
  {
   "cell_type": "code",
   "execution_count": 60,
   "id": "041f2d82",
   "metadata": {},
   "outputs": [],
   "source": [
    "pd_log2 = pd_log1[pd_log1[\"os\"] != \"Other\"]"
   ]
  },
  {
   "cell_type": "code",
   "execution_count": 61,
   "id": "4a12c194",
   "metadata": {},
   "outputs": [
    {
     "data": {
      "text/plain": [
       "946983"
      ]
     },
     "execution_count": 61,
     "metadata": {},
     "output_type": "execute_result"
    }
   ],
   "source": [
    "len(pd_log2)"
   ]
  },
  {
   "cell_type": "code",
   "execution_count": 66,
   "id": "4c904e5c",
   "metadata": {},
   "outputs": [
    {
     "data": {
      "image/png": "[encoded data removed]",
      "text/plain": [
       "<Figure size 360x432 with 1 Axes>"
      ]
     },
     "metadata": {
      "needs_background": "light"
     },
     "output_type": "display_data"
    }
   ],
   "source": [
    "# device\n",
    "plt.rcParams[\"figure.figsize\"] = (5,6)\n",
    "plt.title(\"Use Device\", fontsize=15)\n",
    "pd_log[\"device\"].value_counts(ascending=True).plot.barh(width = 0.5)\n",
    "\n",
    "plt.ylabel(\"Device\", fontsize=12)\n",
    "plt.xlabel(\"Count\", fontsize=12)\n",
    "plt.show()"
   ]
  },
  {
   "cell_type": "code",
   "execution_count": 24,
   "id": "3a6a3b4d",
   "metadata": {},
   "outputs": [],
   "source": [
    "pd_log3 = pd_log2[pd_log2[\"device\"] == \"Other\"]"
   ]
  },
  {
   "cell_type": "code",
   "execution_count": 67,
   "id": "b65e16af",
   "metadata": {},
   "outputs": [],
   "source": [
    "pd_log3 = pd_log2[pd_log2[\"device\"] != \"Other\"]"
   ]
  },
  {
   "cell_type": "code",
   "execution_count": 68,
   "id": "6e794a7c",
   "metadata": {},
   "outputs": [
    {
     "data": {
      "text/plain": [
       "940603"
      ]
     },
     "execution_count": 68,
     "metadata": {},
     "output_type": "execute_result"
    }
   ],
   "source": [
    "len(pd_log3)  # 행의 개수가 약 0.25% 준다."
   ]
  },
  {
   "cell_type": "code",
   "execution_count": 16,
   "id": "cdcd84c0",
   "metadata": {},
   "outputs": [],
   "source": [
    "# 4. row 제거\n",
    "\n",
    "# device : bot ,개발과정에서 발생한 로그(크롤링, curl,Zabbix, okhttp 등) 제거 \n",
    "web_log = web_log.filter((web_log.device  != \"Bot\") | (web_log.device  != \"Other\"))\n",
    "\n",
    "# browser : 개발과정에서 발생한 로그 제외\n",
    "select_browser = [\"Chrome\",'Other', 'Whale', 'Safari UI/WKWebView', 'IE', 'Edge', 'Chrome WebView', 'Safari', 'Firefox', 'Outlook', 'Samsung Internet', 'Opera','Chrome iOS','Firefox iOS','Outlook-iOS']\n",
    "web_log = web_log.filter(web_log.browser.isin(select_browser))\n",
    "\n",
    "# os : 알 수 없는 os, 개발과정에서 발생한 로그 제외\n",
    "web_log = web_log.filter((web_log.os != \"Other\"))"
   ]
  },
  {
   "cell_type": "code",
   "execution_count": 38,
   "id": "d18a56cc",
   "metadata": {},
   "outputs": [
    {
     "name": "stderr",
     "output_type": "stream",
     "text": [
      "/tmp/ipykernel_1896696/2982853604.py:6: SettingWithCopyWarning: \n",
      "A value is trying to be set on a copy of a slice from a DataFrame.\n",
      "Try using .loc[row_indexer,col_indexer] = value instead\n",
      "\n",
      "See the caveats in the documentation: https://pandas.pydata.org/pandas-docs/stable/user_guide/indexing.html#returning-a-view-versus-a-copy\n",
      "  pd_log3[\"identifier\"] = pd_log3[\"identifier\"].apply(lambda x : s(x))\n"
     ]
    }
   ],
   "source": [
    "# column 시각화\n",
    "def s(x):\n",
    "    if x == '-': return 'No Data'\n",
    "    return x\n",
    "\n",
    "pd_log3[\"identifier\"] = pd_log3[\"identifier\"].apply(lambda x : s(x))"
   ]
  },
  {
   "cell_type": "code",
   "execution_count": 45,
   "id": "632fc6cd",
   "metadata": {},
   "outputs": [
    {
     "data": {
      "image/png": "[encoded data removed]",
      "text/plain": [
       "<Figure size 360x432 with 1 Axes>"
      ]
     },
     "metadata": {
      "needs_background": "light"
     },
     "output_type": "display_data"
    }
   ],
   "source": [
    "plt.rcParams[\"figure.figsize\"] = (5,6)\n",
    "plt.title(\"identifier column\", fontsize=15)\n",
    "pd_log3[\"identifier\"].value_counts().plot.barh(width = 0.1)\n",
    "\n",
    "plt.ylabel(\"Count\", fontsize=12)\n",
    "plt.xlabel(\"identifier\", fontsize=12)\n",
    "plt.show()"
   ]
  },
  {
   "cell_type": "code",
   "execution_count": 40,
   "id": "3e1ffe51",
   "metadata": {},
   "outputs": [
    {
     "name": "stderr",
     "output_type": "stream",
     "text": [
      "/tmp/ipykernel_1896696/2571752654.py:6: SettingWithCopyWarning: \n",
      "A value is trying to be set on a copy of a slice from a DataFrame.\n",
      "Try using .loc[row_indexer,col_indexer] = value instead\n",
      "\n",
      "See the caveats in the documentation: https://pandas.pydata.org/pandas-docs/stable/user_guide/indexing.html#returning-a-view-versus-a-copy\n",
      "  pd_log3[\"go-agent\"] = pd_log3[\"go-agent\"].apply(lambda x : s(x))\n"
     ]
    }
   ],
   "source": [
    "def s(x):\n",
    "    if x == '-': return 'No Data'\n",
    "    return x\n",
    "    \n",
    "\n",
    "pd_log3[\"go-agent\"] = pd_log3[\"go-agent\"].apply(lambda x : s(x))"
   ]
  },
  {
   "cell_type": "code",
   "execution_count": 41,
   "id": "55908a42",
   "metadata": {},
   "outputs": [],
   "source": [
    "pd_log4 = pd_log3[pd_log3['go-agent'] != 'No Data']"
   ]
  },
  {
   "cell_type": "code",
   "execution_count": 46,
   "id": "bb5aab41",
   "metadata": {},
   "outputs": [
    {
     "data": {
      "text/html": [
       "<div>\n",
       "<style scoped>\n",
       "    .dataframe tbody tr th:only-of-type {\n",
       "        vertical-align: middle;\n",
       "    }\n",
       "\n",
       "    .dataframe tbody tr th {\n",
       "        vertical-align: top;\n",
       "    }\n",
       "\n",
       "    .dataframe thead th {\n",
       "        text-align: right;\n",
       "    }\n",
       "</style>\n",
       "<table border=\"1\" class=\"dataframe\">\n",
       "  <thead>\n",
       "    <tr style=\"text-align: right;\">\n",
       "      <th></th>\n",
       "      <th>IP</th>\n",
       "      <th>identifier</th>\n",
       "      <th>email</th>\n",
       "      <th>time</th>\n",
       "      <th>request</th>\n",
       "      <th>url</th>\n",
       "      <th>protocol</th>\n",
       "      <th>status_code</th>\n",
       "      <th>bytesize</th>\n",
       "      <th>referer</th>\n",
       "      <th>user-agent</th>\n",
       "      <th>go-agent</th>\n",
       "      <th>processing time</th>\n",
       "      <th>browser</th>\n",
       "      <th>os</th>\n",
       "      <th>device</th>\n",
       "    </tr>\n",
       "  </thead>\n",
       "  <tbody>\n",
       "    <tr>\n",
       "      <th>15</th>\n",
       "      <td>124.50.171.135</td>\n",
       "      <td>No Data</td>\n",
       "      <td>-</td>\n",
       "      <td>07/Jan/2022:00:00:07</td>\n",
       "      <td>GET</td>\n",
       "      <td>/api/device/version/check?deviceType=android&amp;v...</td>\n",
       "      <td>HTTP/1.0</td>\n",
       "      <td>200</td>\n",
       "      <td>68</td>\n",
       "      <td>-</td>\n",
       "      <td>GO-Android/10.3.0.5</td>\n",
       "      <td>GO-Android</td>\n",
       "      <td>0.005</td>\n",
       "      <td>Other</td>\n",
       "      <td>Android</td>\n",
       "      <td>Tablet</td>\n",
       "    </tr>\n",
       "    <tr>\n",
       "      <th>18</th>\n",
       "      <td>124.50.171.135</td>\n",
       "      <td>No Data</td>\n",
       "      <td>run@daou.co.kr</td>\n",
       "      <td>07/Jan/2022:00:00:07</td>\n",
       "      <td>GET</td>\n",
       "      <td>/api/my/news</td>\n",
       "      <td>HTTP/1.0</td>\n",
       "      <td>200</td>\n",
       "      <td>224</td>\n",
       "      <td>-</td>\n",
       "      <td>GO-Android/10.3.0.5</td>\n",
       "      <td>GO-Android</td>\n",
       "      <td>0.085</td>\n",
       "      <td>Other</td>\n",
       "      <td>Android</td>\n",
       "      <td>Tablet</td>\n",
       "    </tr>\n",
       "    <tr>\n",
       "      <th>19</th>\n",
       "      <td>124.50.171.135</td>\n",
       "      <td>No Data</td>\n",
       "      <td>run@daou.co.kr</td>\n",
       "      <td>07/Jan/2022:00:00:08</td>\n",
       "      <td>GET</td>\n",
       "      <td>/api/mail/message/count?flag=U&amp;folder=Inbox</td>\n",
       "      <td>HTTP/1.0</td>\n",
       "      <td>200</td>\n",
       "      <td>84</td>\n",
       "      <td>-</td>\n",
       "      <td>GO-Android/10.3.0.5</td>\n",
       "      <td>GO-Android</td>\n",
       "      <td>0.577</td>\n",
       "      <td>Other</td>\n",
       "      <td>Android</td>\n",
       "      <td>Tablet</td>\n",
       "    </tr>\n",
       "    <tr>\n",
       "      <th>22</th>\n",
       "      <td>124.50.171.135</td>\n",
       "      <td>No Data</td>\n",
       "      <td>run@daou.co.kr</td>\n",
       "      <td>07/Jan/2022:00:00:10</td>\n",
       "      <td>GET</td>\n",
       "      <td>/api/today/badge</td>\n",
       "      <td>HTTP/1.0</td>\n",
       "      <td>200</td>\n",
       "      <td>317</td>\n",
       "      <td>-</td>\n",
       "      <td>GO-Android/10.3.0.5</td>\n",
       "      <td>GO-Android</td>\n",
       "      <td>2.343</td>\n",
       "      <td>Other</td>\n",
       "      <td>Android</td>\n",
       "      <td>Tablet</td>\n",
       "    </tr>\n",
       "    <tr>\n",
       "      <th>30</th>\n",
       "      <td>112.186.58.216</td>\n",
       "      <td>No Data</td>\n",
       "      <td>cruiseny@daou.co.kr</td>\n",
       "      <td>07/Jan/2022:00:00:14</td>\n",
       "      <td>GET</td>\n",
       "      <td>/api/user/session</td>\n",
       "      <td>HTTP/1.0</td>\n",
       "      <td>200</td>\n",
       "      <td>835</td>\n",
       "      <td>https://portal.daou.co.kr/app/home</td>\n",
       "      <td>Mozilla/5.0 (Macintosh; Intel Mac OS X 10_15_7...</td>\n",
       "      <td>undefined</td>\n",
       "      <td>0.659</td>\n",
       "      <td>Chrome</td>\n",
       "      <td>Mac OS X</td>\n",
       "      <td>Computer</td>\n",
       "    </tr>\n",
       "    <tr>\n",
       "      <th>...</th>\n",
       "      <td>...</td>\n",
       "      <td>...</td>\n",
       "      <td>...</td>\n",
       "      <td>...</td>\n",
       "      <td>...</td>\n",
       "      <td>...</td>\n",
       "      <td>...</td>\n",
       "      <td>...</td>\n",
       "      <td>...</td>\n",
       "      <td>...</td>\n",
       "      <td>...</td>\n",
       "      <td>...</td>\n",
       "      <td>...</td>\n",
       "      <td>...</td>\n",
       "      <td>...</td>\n",
       "      <td>...</td>\n",
       "    </tr>\n",
       "    <tr>\n",
       "      <th>1262885</th>\n",
       "      <td>110.11.144.79</td>\n",
       "      <td>No Data</td>\n",
       "      <td>yoonnoh546@daou.co.kr</td>\n",
       "      <td>07/Jan/2022:23:59:32</td>\n",
       "      <td>GET</td>\n",
       "      <td>/api/user/profile/4572</td>\n",
       "      <td>HTTP/1.0</td>\n",
       "      <td>200</td>\n",
       "      <td>3172</td>\n",
       "      <td>-</td>\n",
       "      <td>GO-Android/10.4.5.0</td>\n",
       "      <td>GO-Android</td>\n",
       "      <td>0.818</td>\n",
       "      <td>Other</td>\n",
       "      <td>Android</td>\n",
       "      <td>Tablet</td>\n",
       "    </tr>\n",
       "    <tr>\n",
       "      <th>1262886</th>\n",
       "      <td>110.11.144.79</td>\n",
       "      <td>No Data</td>\n",
       "      <td>-</td>\n",
       "      <td>07/Jan/2022:23:59:33</td>\n",
       "      <td>GET</td>\n",
       "      <td>//thumb/user/large/1446933-126584</td>\n",
       "      <td>HTTP/1.0</td>\n",
       "      <td>200</td>\n",
       "      <td>38589</td>\n",
       "      <td>-</td>\n",
       "      <td>GO-Android</td>\n",
       "      <td>GO-Android</td>\n",
       "      <td>0.02</td>\n",
       "      <td>Other</td>\n",
       "      <td>Android</td>\n",
       "      <td>Tablet</td>\n",
       "    </tr>\n",
       "    <tr>\n",
       "      <th>1262888</th>\n",
       "      <td>110.11.144.79</td>\n",
       "      <td>No Data</td>\n",
       "      <td>-</td>\n",
       "      <td>07/Jan/2022:23:59:41</td>\n",
       "      <td>GET</td>\n",
       "      <td>/api/device/version/check?deviceType=android&amp;v...</td>\n",
       "      <td>HTTP/1.0</td>\n",
       "      <td>200</td>\n",
       "      <td>68</td>\n",
       "      <td>-</td>\n",
       "      <td>GO-Android/10.4.5.0</td>\n",
       "      <td>GO-Android</td>\n",
       "      <td>0.006</td>\n",
       "      <td>Other</td>\n",
       "      <td>Android</td>\n",
       "      <td>Tablet</td>\n",
       "    </tr>\n",
       "    <tr>\n",
       "      <th>1262891</th>\n",
       "      <td>110.11.144.79</td>\n",
       "      <td>No Data</td>\n",
       "      <td>yoonnoh546@daou.co.kr</td>\n",
       "      <td>07/Jan/2022:23:59:49</td>\n",
       "      <td>GET</td>\n",
       "      <td>/api/user/profile/4912</td>\n",
       "      <td>HTTP/1.0</td>\n",
       "      <td>200</td>\n",
       "      <td>3112</td>\n",
       "      <td>-</td>\n",
       "      <td>GO-Android/10.4.5.0</td>\n",
       "      <td>GO-Android</td>\n",
       "      <td>0.739</td>\n",
       "      <td>Other</td>\n",
       "      <td>Android</td>\n",
       "      <td>Tablet</td>\n",
       "    </tr>\n",
       "    <tr>\n",
       "      <th>1262892</th>\n",
       "      <td>110.11.144.79</td>\n",
       "      <td>No Data</td>\n",
       "      <td>-</td>\n",
       "      <td>07/Jan/2022:23:59:49</td>\n",
       "      <td>GET</td>\n",
       "      <td>//thumb/user/large/1847789-4298</td>\n",
       "      <td>HTTP/1.0</td>\n",
       "      <td>200</td>\n",
       "      <td>15329</td>\n",
       "      <td>-</td>\n",
       "      <td>GO-Android</td>\n",
       "      <td>GO-Android</td>\n",
       "      <td>0.085</td>\n",
       "      <td>Other</td>\n",
       "      <td>Android</td>\n",
       "      <td>Tablet</td>\n",
       "    </tr>\n",
       "  </tbody>\n",
       "</table>\n",
       "<p>209518 rows × 16 columns</p>\n",
       "</div>"
      ],
      "text/plain": [
       "                     IP identifier                  email  \\\n",
       "15       124.50.171.135    No Data                      -   \n",
       "18       124.50.171.135    No Data         run@daou.co.kr   \n",
       "19       124.50.171.135    No Data         run@daou.co.kr   \n",
       "22       124.50.171.135    No Data         run@daou.co.kr   \n",
       "30       112.186.58.216    No Data    cruiseny@daou.co.kr   \n",
       "...                 ...        ...                    ...   \n",
       "1262885   110.11.144.79    No Data  yoonnoh546@daou.co.kr   \n",
       "1262886   110.11.144.79    No Data                      -   \n",
       "1262888   110.11.144.79    No Data                      -   \n",
       "1262891   110.11.144.79    No Data  yoonnoh546@daou.co.kr   \n",
       "1262892   110.11.144.79    No Data                      -   \n",
       "\n",
       "                         time request  \\\n",
       "15       07/Jan/2022:00:00:07     GET   \n",
       "18       07/Jan/2022:00:00:07     GET   \n",
       "19       07/Jan/2022:00:00:08     GET   \n",
       "22       07/Jan/2022:00:00:10     GET   \n",
       "30       07/Jan/2022:00:00:14     GET   \n",
       "...                       ...     ...   \n",
       "1262885  07/Jan/2022:23:59:32     GET   \n",
       "1262886  07/Jan/2022:23:59:33     GET   \n",
       "1262888  07/Jan/2022:23:59:41     GET   \n",
       "1262891  07/Jan/2022:23:59:49     GET   \n",
       "1262892  07/Jan/2022:23:59:49     GET   \n",
       "\n",
       "                                                       url  protocol  \\\n",
       "15       /api/device/version/check?deviceType=android&v...  HTTP/1.0   \n",
       "18                                            /api/my/news  HTTP/1.0   \n",
       "19             /api/mail/message/count?flag=U&folder=Inbox  HTTP/1.0   \n",
       "22                                        /api/today/badge  HTTP/1.0   \n",
       "30                                       /api/user/session  HTTP/1.0   \n",
       "...                                                    ...       ...   \n",
       "1262885                             /api/user/profile/4572  HTTP/1.0   \n",
       "1262886                  //thumb/user/large/1446933-126584  HTTP/1.0   \n",
       "1262888  /api/device/version/check?deviceType=android&v...  HTTP/1.0   \n",
       "1262891                             /api/user/profile/4912  HTTP/1.0   \n",
       "1262892                    //thumb/user/large/1847789-4298  HTTP/1.0   \n",
       "\n",
       "        status_code bytesize                             referer  \\\n",
       "15              200       68                                   -   \n",
       "18              200      224                                   -   \n",
       "19              200       84                                   -   \n",
       "22              200      317                                   -   \n",
       "30              200      835  https://portal.daou.co.kr/app/home   \n",
       "...             ...      ...                                 ...   \n",
       "1262885         200     3172                                   -   \n",
       "1262886         200    38589                                   -   \n",
       "1262888         200       68                                   -   \n",
       "1262891         200     3112                                   -   \n",
       "1262892         200    15329                                   -   \n",
       "\n",
       "                                                user-agent    go-agent  \\\n",
       "15                                     GO-Android/10.3.0.5  GO-Android   \n",
       "18                                     GO-Android/10.3.0.5  GO-Android   \n",
       "19                                     GO-Android/10.3.0.5  GO-Android   \n",
       "22                                     GO-Android/10.3.0.5  GO-Android   \n",
       "30       Mozilla/5.0 (Macintosh; Intel Mac OS X 10_15_7...   undefined   \n",
       "...                                                    ...         ...   \n",
       "1262885                                GO-Android/10.4.5.0  GO-Android   \n",
       "1262886                                         GO-Android  GO-Android   \n",
       "1262888                                GO-Android/10.4.5.0  GO-Android   \n",
       "1262891                                GO-Android/10.4.5.0  GO-Android   \n",
       "1262892                                         GO-Android  GO-Android   \n",
       "\n",
       "        processing time browser        os    device  \n",
       "15                0.005   Other   Android    Tablet  \n",
       "18                0.085   Other   Android    Tablet  \n",
       "19                0.577   Other   Android    Tablet  \n",
       "22                2.343   Other   Android    Tablet  \n",
       "30                0.659  Chrome  Mac OS X  Computer  \n",
       "...                 ...     ...       ...       ...  \n",
       "1262885           0.818   Other   Android    Tablet  \n",
       "1262886            0.02   Other   Android    Tablet  \n",
       "1262888           0.006   Other   Android    Tablet  \n",
       "1262891           0.739   Other   Android    Tablet  \n",
       "1262892           0.085   Other   Android    Tablet  \n",
       "\n",
       "[209518 rows x 16 columns]"
      ]
     },
     "execution_count": 46,
     "metadata": {},
     "output_type": "execute_result"
    }
   ],
   "source": [
    "pd_log3[pd_log3['go-agent'] != 'No Data']"
   ]
  },
  {
   "cell_type": "code",
   "execution_count": 42,
   "id": "21df599a",
   "metadata": {},
   "outputs": [
    {
     "data": {
      "image/png": "[encoded data removed]",
      "text/plain": [
       "<Figure size 504x432 with 1 Axes>"
      ]
     },
     "metadata": {
      "needs_background": "light"
     },
     "output_type": "display_data"
    }
   ],
   "source": [
    "plt.rcParams[\"figure.figsize\"] = (7,6)\n",
    "plt.title(\"go-agent column\", fontsize=15)\n",
    "pd_log3[\"go-agent\"].value_counts(ascending=True).plot.barh(width = 0.5)\n",
    "\n",
    "plt.ylabel(\"Count\", fontsize=12)\n",
    "plt.xlabel(\"go-agent\", fontsize=12)\n",
    "plt.show()"
   ]
  },
  {
   "cell_type": "code",
   "execution_count": 43,
   "id": "9e3c6f4a",
   "metadata": {},
   "outputs": [
    {
     "data": {
      "image/png": "[encoded data removed]",
      "text/plain": [
       "<Figure size 504x432 with 1 Axes>"
      ]
     },
     "metadata": {
      "needs_background": "light"
     },
     "output_type": "display_data"
    }
   ],
   "source": [
    "plt.rcParams[\"figure.figsize\"] = (7,6)\n",
    "plt.title(\"protocol column\", fontsize=15)\n",
    "pd_log3[\"protocol\"].value_counts(ascending=True).plot.barh(width = 0.1)\n",
    "\n",
    "plt.ylabel(\"Count\", fontsize=12)\n",
    "plt.xlabel(\"protocol\", fontsize=12)\n",
    "plt.show()"
   ]
  },
  {
   "cell_type": "code",
   "execution_count": null,
   "id": "d5961c8e",
   "metadata": {},
   "outputs": [],
   "source": [
    "## -------------------------------------------------------------------\n",
    "\n",
    "# 5. column 제거\n",
    "\n",
    "# identifier : identifier count 0\n",
    "web_log = web_log.drop(\"identifier\")\n",
    "\n",
    "# go-agent :  user-agent의 (browser, os, device)를 파악함으로써 go-agent의 정보를 대체할 수 있다.\n",
    "web_log = web_log.drop(\"go-agent\")\n",
    "\n",
    "# protocol : http/1.0으로 중복, status_code를 통하여 http/1.0 protocol를 유추가능\n",
    "web_log = web_log.drop(\"protocol\")\n",
    "\n",
    "## -------------------------------------------------------------------"
   ]
  },
  {
   "cell_type": "code",
   "execution_count": 14,
   "id": "0b0f3955",
   "metadata": {},
   "outputs": [],
   "source": [
    "# 6. 처리시간 변환\n",
    "web_log = web_log.withColumn('processing time',\\\n",
    "                     f.when(web_log[\"processing time\"].isin('-'),f.regexp_replace(web_log[\"processing time\"],'-',''))\\\n",
    "                     .otherwise(web_log[\"processing time\"]))\n",
    "\n",
    "# 6. 요청 시간을 datetime string으로 변환\n",
    "def trans_time(t):\n",
    "    return str(pd.to_datetime(t,format='%d/%b/%Y:%H:%M:%S'))\n",
    "\n",
    "time_UDF = f.udf(lambda x: trans_time(x))\n",
    "\n",
    "web_log = web_log.withColumn(\"datetime\", time_UDF(f.col(\"time\")))\n",
    "web_log = web_log.drop(\"time\")\n",
    "\n",
    "\n",
    "# 6. type 변환 (int, float, timestamp)\n",
    "web_log = web_log.withColumn('bytesize',\\\n",
    "                     f.when(web_log[\"bytesize\"].isin('-'),f.regexp_replace(web_log[\"bytesize\"],'-','0')) .otherwise(web_log[\"bytesize\"]))\n",
    "web_log = web_log.withColumn(\"bytesize\", web_log[\"bytesize\"].cast(IntegerType()))                     \n",
    "\n",
    "web_log = web_log.withColumn('processing time',\\\n",
    "                     f.when(web_log[\"processing time\"].isin('-'),f.regexp_replace(web_log[\"processing time\"],'-','0')) .otherwise(web_log[\"processing time\"]))\n",
    "web_log = web_log.withColumn(\"processing time\", web_log[\"processing time\"].cast(FloatType()))                \n",
    "\n",
    "web_log = web_log.withColumn(\"datetime\",f.to_timestamp(\"datetime\"))"
   ]
  },
  {
   "cell_type": "code",
   "execution_count": 3,
   "id": "439fe563",
   "metadata": {},
   "outputs": [],
   "source": [
    "#             # PostgreSQL 적재 \n",
    "#             web_log.write.mode(\"append\").jdbc(\"jdbc:postgresql://localhost:5432/superset\", f\"public.admin{idx}\",\\\n",
    "#                                           properties={\"user\": \"postgres\", \"password\": \"1234\"})\n",
    "\n",
    "'''Pandas processing'''\n",
    "# ''' processing : \n",
    "# 1. 읽은 파일을 데이터 프레임으로 변환\n",
    "# 2. 컬럼 제거 / 제거기준 : \"+0900\", 클라이언트 식별자, 프로토콜 ,go-agent 식별정보\n",
    "# 3. email -> userid를 뽑아내기\n",
    "# 4. 요청 시간 -> datetime형태로 변환\n",
    "# 5. UA -> browser, OS, device -> 기존컬럼제거\n",
    "# 6  요청처리시간 오류 제거\n",
    "# 7. int형태로 변환\n",
    "# '''\n",
    "    \n",
    "# #  bite가 얼마나 줄었는지 생각하기 (size줄이기)\n",
    "# #  postgreSQL에 적재할 테이블 기준생성\n",
    "# #  ip/사용자아이디/요청 시간/요청 페이지/HTTP상태코드/바이트사이즈/레퍼러/요청처리시간/요청처리시간/브라우저/OS/장치 (13개컬럼)\n",
    "# log = ['172.21.27.94 - cabeza_@daou.co.kr [17/Mar/2022:08:56:34 +0900] GET /api/chat/rooms/93730?size=21&userSeq=3012 HTTP/1.0 200 1757 \"-\" \"Mozilla/5.0 (Macintosh; Intel Mac OS X 10_15_7) AppleWebKit/537.36 (KHTML, like Gecko) DaouMessenger/3.5.0 Chrome/91.0.4472.164 Electron/13.5.2 Safari/537.36\" \"GO-PC\" 0.081',\n",
    "# '112.168.170.128 - jieun.kim@daou.co.kr [17/Mar/2022:08:56:34 +0900] GET /api/approval/todo/count HTTP/1.0 200 224 \"https://portal.daou.co.kr/app/approval/document/534993/integration\" \"Mozilla/5.0 (Windows NT 10.0; Win64; x64) AppleWebKit/537.36 (KHTML, like Gecko) Chrome/99.0.4844.74 Safari/537.36\" \"-\" 0.129',\n",
    "# '112.168.170.128 - jieun.kim@daou.co.kr [17/Mar/2022:08:56:34 +0900] GET /api/approval/document/534993 HTTP/1.0 200 6314 \"https://portal.daou.co.kr/app/approval/document/534993/integration\" \"Mozilla/5.0 (Windows NT 10.0; Win64; x64) AppleWebKit/537.36 (KHTML, like Gecko) Chrome/99.0.4844.74 Safari/537.36\" \"-\" 0.169',\n",
    "# '123.2.134.129 - - [17/Mar/2022:08:57:02 +0900] GET /go/login HTTP/1.0 200 10162 \"-\" \"Zabbix\" \"-\" 0.015',\n",
    "# '123.2.134.129 - - [17/Mar/2022:08:58:02 +0900] GET /go/login HTTP/1.0 200 10162 \"-\" \"Zabbix\" \"-\" 0.023',\n",
    "# '123.2.134.129 - - [17/Mar/2022:08:59:04 +0900] GET /go/login HTTP/1.0 200 10162 \"-\" \"Zabbix\" \"-\" 0.017',\n",
    "# '- - - [17/Mar/2022:08:59:29 +0900] GET / HTTP/1.1 302 - \"-\" \"libwww-perl/5.822\" \"-\" 0.019']\n",
    "\n",
    "# columns = [\"ip\",\"user_id\",\"datetime\",\"request\",\"url\",\"status\",\"bytesize\",\"refferer\",\"processing time\", \"browser\", \"OS\", \"device\"]\n",
    "# r= []\n",
    "# def trans_email(t):\n",
    "#     row[1] = t.split(\"@\")[0]\n",
    "    \n",
    "# def extract_UAinfo(ua_string):\n",
    "#     userAgentParser = UserAgentParser()\n",
    "#     UA_info = userAgentParser.get_3layers(ua_string)\n",
    "#     return [UA_info[0],UA_info[1],UA_info[2]]\n",
    "\n",
    "# def trans_time(t):\n",
    "#     print(type(str(pd.to_datetime(t,format='%d/%b/%Y:%H:%M:%S'))))\n",
    "#     row[2] = pd.to_datetime(t,format='%d/%b/%Y:%H:%M:%S')\n",
    "\n",
    "# for s in log:\n",
    "#     s = s.replace('[', '\"').replace(']','\"')\n",
    "#     s =s.split('\"')\n",
    "\n",
    "#     # 1. dataframe 만들기\n",
    "#     row, tmp = [], []\n",
    "#     for i in s:\n",
    "#         if i==' ':\n",
    "#             continue\n",
    "#         i = i.strip()\n",
    "#         tmp.append(i)\n",
    "\n",
    "#     for i in tmp[:3]:\n",
    "#         row += i.split()\n",
    "#     row += tmp[3:]\n",
    "\n",
    "#     # 2. 컬럼제거\n",
    "#     del row[1]\n",
    "#     del row[3]\n",
    "#     del row[5]\n",
    "#     del row[9]\n",
    "\n",
    "#     # 3. email -> userid를 뽑아내기\n",
    "#     trans_email(row[1])\n",
    "\n",
    "#     # 4. 요청 시간 -> datetime형태로 변환\n",
    "#     trans_time(row[2])\n",
    "\n",
    "#     # 5. UA -> browser, OS, device -> 기존컬럼제거\n",
    "#     row += extract_UAinfo(row[8])\n",
    "#     del row[8]\n",
    "\n",
    "#     # 6. 요청처리시간 오류 제거\n",
    "#     row[8] = re.sub(\"-\",\"\",row[8])\n",
    "\n",
    "#     # 7. int형태로 변환\n",
    "#     if row[6] != '-':\n",
    "#         row[6] = int(row[6])\n",
    "#         row[8] = float(row[8])\n",
    "        \n",
    "#     r.append(row)\n",
    "\n",
    "\n",
    "# df = pd.DataFrame(r, columns = columns)  \n",
    "# df\n",
    "\n",
    "s= '123425525asdf'\n",
    "s[-4:-2]"
   ]
  },
  {
   "cell_type": "code",
   "execution_count": 9,
   "id": "27278a32",
   "metadata": {},
   "outputs": [],
   "source": [
    "schema = StructType([ \n",
    "    StructField(\"IP\", StringType(), True), \n",
    "    StructField(\"email\", StringType(), True),\n",
    "    StructField(\"request\", StringType(), True),\n",
    "    StructField(\"url\", StringType(), True),\n",
    "    StructField(\"status_code\", StringType(), True),\n",
    "    StructField(\"bytesize\", IntegerType(), True),\n",
    "    StructField(\"referer\", StringType(), True),\n",
    "    StructField(\"processing time\", FloatType(), True),\n",
    "    StructField(\"browser\", StringType(), True),\n",
    "    StructField(\"os\", StringType(), True),\n",
    "    StructField(\"device\", StringType(), True),\n",
    "    StructField(\"datetime\", TimestampType(), True),\n",
    "])\n",
    "web_log = spark.read.csv(f\"hdfs://192.168.56.101:9000/admin_log//log_01_final/access_2022-01-02.txt\", schema=schema)"
   ]
  },
  {
   "cell_type": "code",
   "execution_count": 12,
   "id": "afa9685e",
   "metadata": {},
   "outputs": [
    {
     "name": "stdout",
     "output_type": "stream",
     "text": [
      "+------------+--------------------+-------+--------------------+-----------+--------+--------------------+---------------+-------+-------+--------+-------------------+\n",
      "|          IP|               email|request|                 url|status_code|bytesize|             referer|processing time|browser|     os|  device|           datetime|\n",
      "+------------+--------------------+-------+--------------------+-----------+--------+--------------------+---------------+-------+-------+--------+-------------------+\n",
      "|172.21.24.71|                   -|    GET|   /go/admin/company|        302|       0|                   -|          0.031|     IE|Windows|Computer|2022-01-02 07:12:45|\n",
      "|172.21.24.71|                   -|    GET|/go/login?returnU...|        200|    2801|                   -|          0.033|     IE|Windows|Computer|2022-01-02 07:12:45|\n",
      "|172.21.24.71|                   -|    GET|/go/ad/api/login/...|        200|     190|https://portal.da...|          0.012|     IE|Windows|Computer|2022-01-02 07:12:45|\n",
      "|172.21.24.71|                   -|   POST|    /go/ad/api/login|        200|     152|https://portal.da...|          0.595|     IE|Windows|Computer|2022-01-02 07:13:07|\n",
      "|172.21.24.71|p76060306@daou.co.kr|    GET|   /go/admin/company|        200|     694|https://portal.da...|           0.02|     IE|Windows|Computer|2022-01-02 07:13:07|\n",
      "|172.21.24.71|                   -|    GET|/go/resources/fon...|        200|  398602|https://portal.da...|          0.036|     IE|Windows|Computer|2022-01-02 07:13:08|\n",
      "|172.21.24.71|                   -|    GET|/go/resources/fon...|        200|  395482|https://portal.da...|          0.073|     IE|Windows|Computer|2022-01-02 07:13:08|\n",
      "|172.21.24.71|                   -|    GET|/go/resources/fon...|        200|  394622|https://portal.da...|          0.074|     IE|Windows|Computer|2022-01-02 07:13:08|\n",
      "|172.21.24.71|p76060306@daou.co.kr|    GET|/go/ad/api/siteco...|        200|     591|https://portal.da...|          0.031|     IE|Windows|Computer|2022-01-02 07:13:08|\n",
      "|172.21.24.71|p76060306@daou.co.kr|    GET|/go/ad/api/domain...|        200|      92|https://portal.da...|          0.031|     IE|Windows|Computer|2022-01-02 07:13:08|\n",
      "+------------+--------------------+-------+--------------------+-----------+--------+--------------------+---------------+-------+-------+--------+-------------------+\n",
      "only showing top 10 rows\n",
      "\n"
     ]
    }
   ],
   "source": [
    "web_log.show(10)"
   ]
  }
 ],
 "metadata": {
  "kernelspec": {
   "display_name": "Python 3 (ipykernel)",
   "language": "python",
   "name": "python3"
  },
  "language_info": {
   "codemirror_mode": {
    "name": "ipython",
    "version": 3
   },
   "file_extension": ".py",
   "mimetype": "text/x-python",
   "name": "python",
   "nbconvert_exporter": "python",
   "pygments_lexer": "ipython3",
   "version": "3.9.7"
  }
 },
 "nbformat": 4,
 "nbformat_minor": 5
}
