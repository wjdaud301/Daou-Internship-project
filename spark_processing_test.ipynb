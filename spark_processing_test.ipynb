{
 "cells": [
  {
   "cell_type": "code",
   "execution_count": 1,
   "id": "af962cab",
   "metadata": {},
   "outputs": [
    {
     "data": {
      "text/plain": [
       "' processing 단계: \\n1. schema를 적용한 Dataframe 형태로 만들기\\n\\n2. User Agents의 browser, OS, device 컬럼생성 및 기존컬럼제거\\n\\n3. 발생할 수 있는 오류 확인 및 제거\\n\\n4. row 제거 \\n- device를 기준으로 제거\\n- browser를 기준으로 제거\\n- os를 기준으로 제거\\n\\n5. column 제거\\n- identifier 제거\\n- go-agent 제거\\n- protocol 제거\\n\\n6. 변환\\n- 처리시간 변환\\n- 요청 시간을 datetime string으로 변환\\n- 형 변환\\n'"
      ]
     },
     "execution_count": 1,
     "metadata": {},
     "output_type": "execute_result"
    }
   ],
   "source": [
    "from pyspark.conf import SparkConf \n",
    "from pyspark.sql.types import StructType, StructField, StringType, IntegerType, FloatType\n",
    "from pyspark.sql import SparkSession\n",
    "from datetime import datetime\n",
    "from dateutil.parser import parse\n",
    "import pyspark.sql.functions as f\n",
    "from pyspark.sql.types import *\n",
    "\n",
    "import pyspark\n",
    "import matplotlib.pyplot as plt\n",
    "import pandas as pd\n",
    "import numpy as np\n",
    "import re\n",
    "import os\n",
    "import findspark\n",
    "findspark.find()\n",
    "findspark.init(os.environ.get(\"$SPARK_HOME\"))\n",
    "\n",
    "## UserAgentParser\n",
    "class UserAgentParser: \n",
    "    from user_agents import parse #// VERSION: 2.2.0\n",
    "    from collections import namedtuple\n",
    "    UA3Layers = namedtuple(typename='UA3Layers', field_names=['str_browser_name', 'str_operating_system_name', 'str_hardware_type_name'])\n",
    "    \n",
    "    class HardwareType:\n",
    "        SERVER   = 'Server'\n",
    "        TABLET   = 'Tablet'\n",
    "        PHONE    = 'Phone'\n",
    "        COMPUTER = 'Computer'\n",
    "        OTHER    = 'Other'\n",
    "        \n",
    "    def get_3layers(self, str_user_agent):\n",
    "        user_agent = self.__class__.parse(str_user_agent)\n",
    "        return self.__class__.UA3Layers(self.get_browser_name(user_agent), self.get_operating_system_name(user_agent), self.get_hardware_type(user_agent))\n",
    "    \n",
    "    def get_browser_name(self, user_agent):\n",
    "        \"\"\"\n",
    "        Return: ['Chrome', 'Firefox', 'Opera', 'IE', 'Edge', 'Safari', ...]\n",
    "        변환로직:\n",
    "            'IE Mobile' >>> 'IE'\n",
    "            'Mobile Safari' >>> 'Safari'\n",
    "        \"\"\"\n",
    "        str_browser_name = user_agent.browser.family\n",
    "        str_browser_name = str_browser_name.replace('Mobile', '').strip()\n",
    "        return str_browser_name\n",
    "    \n",
    "    def get_operating_system_name(self, user_agent):\n",
    "        \"\"\"\n",
    "        Return: ['Windows','Linux','Mac OS X','iOS','Android','OpenBSD','BlackBerry OS','Chrome OS',...]\n",
    "        \"\"\"\n",
    "        str_operating_system_name = user_agent.os.family\n",
    "        return str_operating_system_name\n",
    "    \n",
    "    def get_hardware_type(self, user_agent):\n",
    "        if user_agent.is_bot:\n",
    "            str_hardware_type_name = self.__class__.HardwareType.SERVER\n",
    "        elif user_agent.is_tablet:\n",
    "            str_hardware_type_name = self.__class__.HardwareType.TABLET\n",
    "        elif user_agent.is_mobile:\n",
    "            str_hardware_type_name = self.__class__.HardwareType.PHONE\n",
    "        elif user_agent.is_pc:\n",
    "            str_hardware_type_name = self.__class__.HardwareType.COMPUTER\n",
    "        else:\n",
    "            str_hardware_type_name = self.__class__.HardwareType.OTHER\n",
    "        return str_hardware_type_name\n",
    "\n",
    "\n",
    "''' processing 단계: \n",
    "1. schema를 적용한 Dataframe 형태로 만들기\n",
    "\n",
    "2. User Agents의 browser, OS, device 컬럼생성 및 기존컬럼제거\n",
    "\n",
    "3. 발생할 수 있는 오류 확인 및 제거\n",
    "\n",
    "4. row 제거 \n",
    "- device를 기준으로 제거\n",
    "- browser를 기준으로 제거\n",
    "- os를 기준으로 제거\n",
    "\n",
    "5. column 제거\n",
    "- identifier 제거\n",
    "- go-agent 제거\n",
    "- protocol 제거\n",
    "\n",
    "6. 변환\n",
    "- 처리시간 변환\n",
    "- 요청 시간을 datetime string으로 변환\n",
    "- 형 변환\n",
    "'''"
   ]
  },
  {
   "cell_type": "code",
   "execution_count": 2,
   "id": "83c1b753",
   "metadata": {},
   "outputs": [
    {
     "ename": "AnalysisException",
     "evalue": "Path does not exist: hdfs://192.168.56.101:9000/web_log/log_01/access_2022-01-07.txt",
     "output_type": "error",
     "traceback": [
      "\u001b[0;31m---------------------------------------------------------------------------\u001b[0m",
      "\u001b[0;31mAnalysisException\u001b[0m                         Traceback (most recent call last)",
      "Input \u001b[0;32mIn [2]\u001b[0m, in \u001b[0;36m<cell line: 23>\u001b[0;34m()\u001b[0m\n\u001b[1;32m     21\u001b[0m \u001b[38;5;66;03m# 1. schema를 적용한 Dataframe 형태로 만들기\u001b[39;00m\n\u001b[1;32m     22\u001b[0m spark \u001b[38;5;241m=\u001b[39m pyspark\u001b[38;5;241m.\u001b[39msql\u001b[38;5;241m.\u001b[39mSparkSession\u001b[38;5;241m.\u001b[39mbuilder\u001b[38;5;241m.\u001b[39mmaster(\u001b[38;5;124m'\u001b[39m\u001b[38;5;124mlocal[*]\u001b[39m\u001b[38;5;124m'\u001b[39m)\u001b[38;5;241m.\u001b[39mgetOrCreate()\n\u001b[0;32m---> 23\u001b[0m web_log \u001b[38;5;241m=\u001b[39m \u001b[43mspark\u001b[49m\u001b[38;5;241;43m.\u001b[39;49m\u001b[43mread\u001b[49m\u001b[38;5;241;43m.\u001b[39;49m\u001b[43mcsv\u001b[49m\u001b[43m(\u001b[49m\u001b[38;5;124;43mf\u001b[39;49m\u001b[38;5;124;43m\"\u001b[39;49m\u001b[38;5;124;43mhdfs://192.168.56.101:9000/web_log/log_01/access_2022-01-07.txt\u001b[39;49m\u001b[38;5;124;43m\"\u001b[39;49m\u001b[43m,\u001b[49m\u001b[43m  \u001b[49m\u001b[43mschema\u001b[49m\u001b[38;5;241;43m=\u001b[39;49m\u001b[43mschema\u001b[49m\u001b[43m)\u001b[49m\n",
      "File \u001b[0;32m/usr/local/spark-3.2.1-bin-hadoop3.2/python/pyspark/sql/readwriter.py:410\u001b[0m, in \u001b[0;36mDataFrameReader.csv\u001b[0;34m(self, path, schema, sep, encoding, quote, escape, comment, header, inferSchema, ignoreLeadingWhiteSpace, ignoreTrailingWhiteSpace, nullValue, nanValue, positiveInf, negativeInf, dateFormat, timestampFormat, maxColumns, maxCharsPerColumn, maxMalformedLogPerPartition, mode, columnNameOfCorruptRecord, multiLine, charToEscapeQuoteEscaping, samplingRatio, enforceSchema, emptyValue, locale, lineSep, pathGlobFilter, recursiveFileLookup, modifiedBefore, modifiedAfter, unescapedQuoteHandling)\u001b[0m\n\u001b[1;32m    408\u001b[0m     path \u001b[38;5;241m=\u001b[39m [path]\n\u001b[1;32m    409\u001b[0m \u001b[38;5;28;01mif\u001b[39;00m \u001b[38;5;28mtype\u001b[39m(path) \u001b[38;5;241m==\u001b[39m \u001b[38;5;28mlist\u001b[39m:\n\u001b[0;32m--> 410\u001b[0m     \u001b[38;5;28;01mreturn\u001b[39;00m \u001b[38;5;28mself\u001b[39m\u001b[38;5;241m.\u001b[39m_df(\u001b[38;5;28;43mself\u001b[39;49m\u001b[38;5;241;43m.\u001b[39;49m\u001b[43m_jreader\u001b[49m\u001b[38;5;241;43m.\u001b[39;49m\u001b[43mcsv\u001b[49m\u001b[43m(\u001b[49m\u001b[38;5;28;43mself\u001b[39;49m\u001b[38;5;241;43m.\u001b[39;49m\u001b[43m_spark\u001b[49m\u001b[38;5;241;43m.\u001b[39;49m\u001b[43m_sc\u001b[49m\u001b[38;5;241;43m.\u001b[39;49m\u001b[43m_jvm\u001b[49m\u001b[38;5;241;43m.\u001b[39;49m\u001b[43mPythonUtils\u001b[49m\u001b[38;5;241;43m.\u001b[39;49m\u001b[43mtoSeq\u001b[49m\u001b[43m(\u001b[49m\u001b[43mpath\u001b[49m\u001b[43m)\u001b[49m\u001b[43m)\u001b[49m)\n\u001b[1;32m    411\u001b[0m \u001b[38;5;28;01melif\u001b[39;00m \u001b[38;5;28misinstance\u001b[39m(path, RDD):\n\u001b[1;32m    412\u001b[0m     \u001b[38;5;28;01mdef\u001b[39;00m \u001b[38;5;21mfunc\u001b[39m(iterator):\n",
      "File \u001b[0;32m/usr/local/spark-3.2.1-bin-hadoop3.2/python/lib/py4j-0.10.9.3-src.zip/py4j/java_gateway.py:1321\u001b[0m, in \u001b[0;36mJavaMember.__call__\u001b[0;34m(self, *args)\u001b[0m\n\u001b[1;32m   1315\u001b[0m command \u001b[38;5;241m=\u001b[39m proto\u001b[38;5;241m.\u001b[39mCALL_COMMAND_NAME \u001b[38;5;241m+\u001b[39m\\\n\u001b[1;32m   1316\u001b[0m     \u001b[38;5;28mself\u001b[39m\u001b[38;5;241m.\u001b[39mcommand_header \u001b[38;5;241m+\u001b[39m\\\n\u001b[1;32m   1317\u001b[0m     args_command \u001b[38;5;241m+\u001b[39m\\\n\u001b[1;32m   1318\u001b[0m     proto\u001b[38;5;241m.\u001b[39mEND_COMMAND_PART\n\u001b[1;32m   1320\u001b[0m answer \u001b[38;5;241m=\u001b[39m \u001b[38;5;28mself\u001b[39m\u001b[38;5;241m.\u001b[39mgateway_client\u001b[38;5;241m.\u001b[39msend_command(command)\n\u001b[0;32m-> 1321\u001b[0m return_value \u001b[38;5;241m=\u001b[39m \u001b[43mget_return_value\u001b[49m\u001b[43m(\u001b[49m\n\u001b[1;32m   1322\u001b[0m \u001b[43m    \u001b[49m\u001b[43manswer\u001b[49m\u001b[43m,\u001b[49m\u001b[43m \u001b[49m\u001b[38;5;28;43mself\u001b[39;49m\u001b[38;5;241;43m.\u001b[39;49m\u001b[43mgateway_client\u001b[49m\u001b[43m,\u001b[49m\u001b[43m \u001b[49m\u001b[38;5;28;43mself\u001b[39;49m\u001b[38;5;241;43m.\u001b[39;49m\u001b[43mtarget_id\u001b[49m\u001b[43m,\u001b[49m\u001b[43m \u001b[49m\u001b[38;5;28;43mself\u001b[39;49m\u001b[38;5;241;43m.\u001b[39;49m\u001b[43mname\u001b[49m\u001b[43m)\u001b[49m\n\u001b[1;32m   1324\u001b[0m \u001b[38;5;28;01mfor\u001b[39;00m temp_arg \u001b[38;5;129;01min\u001b[39;00m temp_args:\n\u001b[1;32m   1325\u001b[0m     temp_arg\u001b[38;5;241m.\u001b[39m_detach()\n",
      "File \u001b[0;32m/usr/local/spark-3.2.1-bin-hadoop3.2/python/pyspark/sql/utils.py:117\u001b[0m, in \u001b[0;36mcapture_sql_exception.<locals>.deco\u001b[0;34m(*a, **kw)\u001b[0m\n\u001b[1;32m    113\u001b[0m converted \u001b[38;5;241m=\u001b[39m convert_exception(e\u001b[38;5;241m.\u001b[39mjava_exception)\n\u001b[1;32m    114\u001b[0m \u001b[38;5;28;01mif\u001b[39;00m \u001b[38;5;129;01mnot\u001b[39;00m \u001b[38;5;28misinstance\u001b[39m(converted, UnknownException):\n\u001b[1;32m    115\u001b[0m     \u001b[38;5;66;03m# Hide where the exception came from that shows a non-Pythonic\u001b[39;00m\n\u001b[1;32m    116\u001b[0m     \u001b[38;5;66;03m# JVM exception message.\u001b[39;00m\n\u001b[0;32m--> 117\u001b[0m     \u001b[38;5;28;01mraise\u001b[39;00m converted \u001b[38;5;28;01mfrom\u001b[39;00m \u001b[38;5;28mNone\u001b[39m\n\u001b[1;32m    118\u001b[0m \u001b[38;5;28;01melse\u001b[39;00m:\n\u001b[1;32m    119\u001b[0m     \u001b[38;5;28;01mraise\u001b[39;00m\n",
      "\u001b[0;31mAnalysisException\u001b[0m: Path does not exist: hdfs://192.168.56.101:9000/web_log/log_01/access_2022-01-07.txt"
     ]
    }
   ],
   "source": [
    "# 1. schema를 이용한 dataframe 생성\n",
    "columns=[\"IP\",\"identifier\",\"email\",\"time\",\"request\",\"url\",\"protocol\",\"status_code\",\\\n",
    "         \"bytesize\",\"referer\",\"user-agent\",\"go-agent\",\"processing time\"]\n",
    "\n",
    "schema = StructType([ \n",
    "    StructField(\"IP\", StringType(), True), \n",
    "    StructField(\"identifier\", StringType(), True), \n",
    "    StructField(\"email\", StringType(), True),\n",
    "    StructField(\"time\", StringType(), True),\n",
    "    StructField(\"request\", StringType(), True),\n",
    "    StructField(\"url\", StringType(), True),\n",
    "    StructField(\"protocol\", StringType(), True),\n",
    "    StructField(\"status_code\", StringType(), True),\n",
    "    StructField(\"bytesize\", StringType(), True),\n",
    "    StructField(\"referer\", StringType(), True),\n",
    "    StructField(\"user-agent\", StringType(), True),\n",
    "    StructField(\"go-agent\", StringType(), True),\n",
    "    StructField(\"processing time\", StringType(), True),\n",
    "])\n",
    "\n",
    "# 1. schema를 적용한 Dataframe 형태로 만들기\n",
    "spark = pyspark.sql.SparkSession.builder.master('local[*]').getOrCreate()\n",
    "web_log = spark.read.csv(f\"hdfs://192.168.56.101:9000/web_log/log_01/access_2022-01-07.txt\",  schema=schema)\n",
    "\n",
    "## -------------------------------------------------------------------"
   ]
  },
  {
   "cell_type": "code",
   "execution_count": 3,
   "id": "b454bdc1",
   "metadata": {},
   "outputs": [],
   "source": [
    "# 2. User Agents의 browser, OS, device 컬럼생성 및 기존컬럼제거\n",
    "\n",
    "def extract_browser(ua_string):\n",
    "    userAgentParser = UserAgentParser()\n",
    "    UA_info = userAgentParser.get_3layers(ua_string)\n",
    "    return UA_info[0]\n",
    "\n",
    "def extract_os(ua_string):\n",
    "    userAgentParser = UserAgentParser()\n",
    "    UA_info = userAgentParser.get_3layers(ua_string)\n",
    "    return UA_info[1]\n",
    "\n",
    "def extract_device(ua_string):\n",
    "    userAgentParser = UserAgentParser()\n",
    "    UA_info = userAgentParser.get_3layers(ua_string)\n",
    "    return UA_info[2]\n",
    "\n",
    "ext_browser_UDF = f.udf(lambda x: extract_browser(x))\n",
    "ext_os_UDF = f.udf(lambda x: extract_os(x))\n",
    "ext_device_UDF = f.udf(lambda x: extract_device(x))\n",
    "\n",
    "web_log = web_log.withColumn(\"browser\", ext_browser_UDF(f.col(\"user-agent\")))\n",
    "web_log = web_log.withColumn(\"os\", ext_os_UDF(f.col(\"user-agent\")))\n",
    "web_log = web_log.withColumn(\"device\", ext_device_UDF(f.col(\"user-agent\")))\n",
    "# web_log = web_log.drop(\"user-agent\")"
   ]
  },
  {
   "cell_type": "code",
   "execution_count": 4,
   "id": "ec3580d8",
   "metadata": {},
   "outputs": [],
   "source": [
    "## -------------------------------------------------------------------\n",
    "\n",
    "# 3. 발생할 수 있는 오류 확인 및 제거\n",
    "web_log = web_log.filter((web_log.time  != \"-\") | (web_log.protocol  == \"HTTP/1.0\") | (web_log.protocol  == \"HTTP/1.1\"))\n",
    "\n",
    "## -------------------------------------------------------------------"
   ]
  },
  {
   "cell_type": "code",
   "execution_count": 6,
   "id": "e8519460",
   "metadata": {},
   "outputs": [
    {
     "name": "stderr",
     "output_type": "stream",
     "text": [
      "ERROR:root:KeyboardInterrupt while sending command.                 (0 + 0) / 1]\n",
      "Traceback (most recent call last):\n",
      "  File \"/usr/local/spark-3.2.1-bin-hadoop3.2/python/lib/py4j-0.10.9.3-src.zip/py4j/java_gateway.py\", line 1038, in send_command\n",
      "    response = connection.send_command(command)\n",
      "  File \"/usr/local/spark-3.2.1-bin-hadoop3.2/python/lib/py4j-0.10.9.3-src.zip/py4j/clientserver.py\", line 475, in send_command\n",
      "    answer = smart_decode(self.stream.readline()[:-1])\n",
      "  File \"/usr/lib/python3.9/socket.py\", line 704, in readinto\n",
      "    return self._sock.recv_into(b)\n",
      "KeyboardInterrupt\n",
      "\n",
      "KeyboardInterrupt\n",
      "\n"
     ]
    }
   ],
   "source": [
    "web_log.show()"
   ]
  },
  {
   "cell_type": "code",
   "execution_count": 5,
   "id": "c1c63856",
   "metadata": {},
   "outputs": [
    {
     "name": "stderr",
     "output_type": "stream",
     "text": [
      "ERROR:root:KeyboardInterrupt while sending command.                 (0 + 1) / 3]\n",
      "Traceback (most recent call last):\n",
      "  File \"/usr/local/spark-3.2.1-bin-hadoop3.2/python/lib/py4j-0.10.9.3-src.zip/py4j/java_gateway.py\", line 1038, in send_command\n",
      "    response = connection.send_command(command)\n",
      "  File \"/usr/local/spark-3.2.1-bin-hadoop3.2/python/lib/py4j-0.10.9.3-src.zip/py4j/clientserver.py\", line 475, in send_command\n",
      "    answer = smart_decode(self.stream.readline()[:-1])\n",
      "  File \"/usr/lib/python3.9/socket.py\", line 704, in readinto\n",
      "    return self._sock.recv_into(b)\n",
      "KeyboardInterrupt\n",
      "\n",
      "KeyboardInterrupt\n",
      "\n"
     ]
    }
   ],
   "source": [
    "pd_log = web_log.toPandas()"
   ]
  },
  {
   "cell_type": "code",
   "execution_count": null,
   "id": "33852914",
   "metadata": {},
   "outputs": [],
   "source": [
    "len(pd_log) # 총 개수 "
   ]
  },
  {
   "cell_type": "code",
   "execution_count": null,
   "id": "6fa3b612",
   "metadata": {},
   "outputs": [],
   "source": [
    "# browser\n",
    "plt.rcParams[\"figure.figsize\"] = (5,7)\n",
    "plt.title(\"Use Browser\", fontsize=15)\n",
    "a = pd_log[\"browser\"].value_counts(ascending=True)\n",
    "a[-20:].plot.barh(width = 0.5)\n",
    "\n",
    "plt.ylabel(\"Browser\", fontsize=12)\n",
    "plt.xlabel(\"Count\", fontsize=12)\n",
    "plt.show()"
   ]
  },
  {
   "cell_type": "code",
   "execution_count": 77,
   "id": "ec4af2de",
   "metadata": {},
   "outputs": [],
   "source": [
    "pd_log1 = pd_log[pd_log[\"browser\"] != \"Electron\"]"
   ]
  },
  {
   "cell_type": "code",
   "execution_count": 78,
   "id": "40dc4eba",
   "metadata": {},
   "outputs": [
    {
     "data": {
      "text/plain": [
       "1056238"
      ]
     },
     "execution_count": 78,
     "metadata": {},
     "output_type": "execute_result"
    }
   ],
   "source": [
    "len(pd_log1)"
   ]
  },
  {
   "cell_type": "code",
   "execution_count": null,
   "id": "3c4903bd",
   "metadata": {},
   "outputs": [],
   "source": [
    "# os \n",
    "plt.rcParams[\"figure.figsize\"] = (5,6)\n",
    "plt.title(\"Use OS\", fontsize=15)\n",
    "pd_log[\"os\"].value_counts(ascending=True).plot.barh(width = 0.5)\n",
    "\n",
    "plt.ylabel(\"OS\", fontsize=12)\n",
    "plt.xlabel(\"Count\", fontsize=12)\n",
    "plt.show()"
   ]
  },
  {
   "cell_type": "code",
   "execution_count": 81,
   "id": "041f2d82",
   "metadata": {},
   "outputs": [],
   "source": [
    "pd_log2 = pd_log1[pd_log1[\"os\"] != \"Other\"]"
   ]
  },
  {
   "cell_type": "code",
   "execution_count": 82,
   "id": "4a12c194",
   "metadata": {},
   "outputs": [
    {
     "data": {
      "text/plain": [
       "946983"
      ]
     },
     "execution_count": 82,
     "metadata": {},
     "output_type": "execute_result"
    }
   ],
   "source": [
    "len(pd_log2)"
   ]
  },
  {
   "cell_type": "code",
   "execution_count": null,
   "id": "4c904e5c",
   "metadata": {},
   "outputs": [],
   "source": [
    "# device\n",
    "plt.rcParams[\"figure.figsize\"] = (5,6)\n",
    "plt.title(\"Use Device\", fontsize=15)\n",
    "pd_log[\"device\"].value_counts(ascending=True).plot.barh(width = 0.5)\n",
    "\n",
    "plt.ylabel(\"Device\", fontsize=12)\n",
    "plt.xlabel(\"Count\", fontsize=12)\n",
    "plt.show()"
   ]
  },
  {
   "cell_type": "code",
   "execution_count": null,
   "id": "b65e16af",
   "metadata": {},
   "outputs": [],
   "source": [
    "pd_log3 = pd_log2[pd_log2[\"device\"] != \"Other\"]"
   ]
  },
  {
   "cell_type": "code",
   "execution_count": null,
   "id": "6e794a7c",
   "metadata": {},
   "outputs": [],
   "source": [
    "len(pd_log3)"
   ]
  },
  {
   "cell_type": "code",
   "execution_count": 84,
   "id": "df3dfdb0",
   "metadata": {},
   "outputs": [
    {
     "data": {
      "text/plain": [
       "{'DaouOffice/10.3.0.20 (com.daou.GroupOfficeInhouse; build:20211118; iOS 14.4.2) Alamofire/5.4.3',\n",
       " 'DaouOffice/10.3.0.20 (com.daou.GroupOfficeInhouse; build:20211118; iOS 15.1.0) Alamofire/5.4.3',\n",
       " 'DaouOffice/10.3.0.20 (com.daou.GroupOfficeInhouse; build:20211118; iOS 15.1.1) Alamofire/5.4.3',\n",
       " 'iOS/13.3 (17C54) dataaccessd/1.0',\n",
       " 'iOS/14.6 (18F72) dataaccessd/1.0',\n",
       " 'iOS/14.7 (18G68) dataaccessd/1.0',\n",
       " 'iOS/14.7.1 (18G82) dataaccessd/1.0',\n",
       " 'iOS/14.7.1 (18G82) remindd/1.0',\n",
       " 'iOS/14.8 (18H17) dataaccessd/1.0',\n",
       " 'iOS/14.8 (18H17) remindd/1.0',\n",
       " 'iOS/14.8.1 (18H107) dataaccessd/1.0',\n",
       " 'iOS/14.8.1 (18H107) remindd/1.0',\n",
       " 'iOS/15.0.1 (19A348) dataaccessd/1.0',\n",
       " 'iOS/15.0.2 (19A404) dataaccessd/1.0',\n",
       " 'iOS/15.0.2 (19A404) remindd/1.0',\n",
       " 'iOS/15.1 (19B74) dataaccessd/1.0',\n",
       " 'iOS/15.1 (19B74) remindd/1.0',\n",
       " 'iOS/15.1.1 (19B81) dataaccessd/1.0',\n",
       " 'iOS/15.2 (19C56) dataaccessd/1.0',\n",
       " 'iOS/15.2 (19C56) remindd/1.0',\n",
       " 'iOS/15.2 (19C57) dataaccessd/1.0',\n",
       " 'iOS/15.2 (19C57) remindd/1.0',\n",
       " 'python-requests/2.6.0 CPython/2.7.5 Linux/3.10.0-1062.9.1.el7.x86_64',\n",
       " 'python-requests/2.6.0 CPython/2.7.5 Linux/3.10.0-1160.21.1.el7.x86_64',\n",
       " 'python-requests/2.6.0 CPython/2.7.5 Linux/3.10.0-514.el7.x86_64',\n",
       " 'python-requests/2.6.0 CPython/2.7.5 Linux/3.10.0-693.el7.x86_64',\n",
       " 'python-requests/2.6.0 CPython/2.7.5 Linux/3.10.0-957.1.3.el7.x86_64'}"
      ]
     },
     "execution_count": 84,
     "metadata": {},
     "output_type": "execute_result"
    }
   ],
   "source": [
    "set(pd_log2[pd_log2[\"device\"] == \"Other\"]['user-agent'])"
   ]
  },
  {
   "cell_type": "code",
   "execution_count": 16,
   "id": "cdcd84c0",
   "metadata": {},
   "outputs": [],
   "source": [
    "# 4. row 제거\n",
    "\n",
    "# device : bot ,개발과정에서 발생한 로그(크롤링, curl,Zabbix, okhttp 등) 제거 \n",
    "web_log = web_log.filter((web_log.device  != \"Bot\") | (web_log.device  != \"Other\"))\n",
    "\n",
    "# browser : 개발과정에서 발생한 로그 제외\n",
    "select_browser = [\"Chrome\",'Other', 'Whale', 'Safari UI/WKWebView', 'IE', 'Edge', 'Chrome WebView', 'Safari', 'Firefox', 'Outlook', 'Samsung Internet', 'Opera','Chrome iOS','Firefox iOS','Outlook-iOS']\n",
    "web_log = web_log.filter(web_log.browser.isin(select_browser))\n",
    "\n",
    "# os : 알 수 없는 os, 개발과정에서 발생한 로그 제외\n",
    "web_log = web_log.filter((web_log.os != \"Other\"))"
   ]
  },
  {
   "cell_type": "code",
   "execution_count": null,
   "id": "632fc6cd",
   "metadata": {},
   "outputs": [],
   "source": [
    "# column 시각화\n",
    "\n",
    "plt.rcParams[\"figure.figsize\"] = (5,6)\n",
    "plt.title(\"Use OS\", fontsize=15)\n",
    "pd_log3[\"identifier\"].value_counts().plot(width = 0.5)\n",
    "\n",
    "plt.ylabel(\"OS\", fontsize=12)\n",
    "plt.xlabel(\"Count\", fontsize=12)\n",
    "plt.show()"
   ]
  },
  {
   "cell_type": "code",
   "execution_count": 14,
   "id": "0b0f3955",
   "metadata": {},
   "outputs": [],
   "source": [
    "## -------------------------------------------------------------------\n",
    "\n",
    "# 5. column 제거\n",
    "\n",
    "# identifier : identifier count 0\n",
    "web_log = web_log.drop(\"identifier\")\n",
    "\n",
    "# go-agent :  user-agent의 (browser, os, device)를 파악함으로써 go-agent의 정보를 대체할 수 있다.\n",
    "web_log = web_log.drop(\"go-agent\")\n",
    "\n",
    "# protocol : http/1.0으로 중복, status_code를 통하여 http/1.0 protocol를 유추가능\n",
    "web_log = web_log.drop(\"protocol\")\n",
    "\n",
    "## -------------------------------------------------------------------\n",
    "\n",
    "# 6. 처리시간 변환\n",
    "web_log = web_log.withColumn('processing time',\\\n",
    "                     f.when(web_log[\"processing time\"].isin('-'),f.regexp_replace(web_log[\"processing time\"],'-',''))\\\n",
    "                     .otherwise(web_log[\"processing time\"]))\n",
    "\n",
    "# 6. 요청 시간을 datetime string으로 변환\n",
    "def trans_time(t):\n",
    "    return str(pd.to_datetime(t,format='%d/%b/%Y:%H:%M:%S'))\n",
    "\n",
    "time_UDF = f.udf(lambda x: trans_time(x))\n",
    "\n",
    "web_log = web_log.withColumn(\"datetime\", time_UDF(f.col(\"time\")))\n",
    "web_log = web_log.drop(\"time\")\n",
    "\n",
    "\n",
    "# 6. type 변환 (int, float, timestamp)\n",
    "web_log = web_log.withColumn('bytesize',\\\n",
    "                     f.when(web_log[\"bytesize\"].isin('-'),f.regexp_replace(web_log[\"bytesize\"],'-','0')) .otherwise(web_log[\"bytesize\"]))\n",
    "web_log = web_log.withColumn(\"bytesize\", web_log[\"bytesize\"].cast(IntegerType()))                     \n",
    "\n",
    "web_log = web_log.withColumn('processing time',\\\n",
    "                     f.when(web_log[\"processing time\"].isin('-'),f.regexp_replace(web_log[\"processing time\"],'-','0')) .otherwise(web_log[\"processing time\"]))\n",
    "web_log = web_log.withColumn(\"processing time\", web_log[\"processing time\"].cast(FloatType()))                \n",
    "\n",
    "web_log = web_log.withColumn(\"datetime\",f.to_timestamp(\"datetime\"))"
   ]
  },
  {
   "cell_type": "code",
   "execution_count": 3,
   "id": "439fe563",
   "metadata": {},
   "outputs": [],
   "source": [
    "#             # PostgreSQL 적재 \n",
    "#             web_log.write.mode(\"append\").jdbc(\"jdbc:postgresql://localhost:5432/superset\", f\"public.admin{idx}\",\\\n",
    "#                                           properties={\"user\": \"postgres\", \"password\": \"1234\"})\n",
    "\n",
    "'''Pandas processing'''\n",
    "# ''' processing : \n",
    "# 1. 읽은 파일을 데이터 프레임으로 변환\n",
    "# 2. 컬럼 제거 / 제거기준 : \"+0900\", 클라이언트 식별자, 프로토콜 ,go-agent 식별정보\n",
    "# 3. email -> userid를 뽑아내기\n",
    "# 4. 요청 시간 -> datetime형태로 변환\n",
    "# 5. UA -> browser, OS, device -> 기존컬럼제거\n",
    "# 6  요청처리시간 오류 제거\n",
    "# 7. int형태로 변환\n",
    "# '''\n",
    "    \n",
    "# #  bite가 얼마나 줄었는지 생각하기 (size줄이기)\n",
    "# #  postgreSQL에 적재할 테이블 기준생성\n",
    "# #  ip/사용자아이디/요청 시간/요청 페이지/HTTP상태코드/바이트사이즈/레퍼러/요청처리시간/요청처리시간/브라우저/OS/장치 (13개컬럼)\n",
    "# log = ['172.21.27.94 - cabeza_@daou.co.kr [17/Mar/2022:08:56:34 +0900] GET /api/chat/rooms/93730?size=21&userSeq=3012 HTTP/1.0 200 1757 \"-\" \"Mozilla/5.0 (Macintosh; Intel Mac OS X 10_15_7) AppleWebKit/537.36 (KHTML, like Gecko) DaouMessenger/3.5.0 Chrome/91.0.4472.164 Electron/13.5.2 Safari/537.36\" \"GO-PC\" 0.081',\n",
    "# '112.168.170.128 - jieun.kim@daou.co.kr [17/Mar/2022:08:56:34 +0900] GET /api/approval/todo/count HTTP/1.0 200 224 \"https://portal.daou.co.kr/app/approval/document/534993/integration\" \"Mozilla/5.0 (Windows NT 10.0; Win64; x64) AppleWebKit/537.36 (KHTML, like Gecko) Chrome/99.0.4844.74 Safari/537.36\" \"-\" 0.129',\n",
    "# '112.168.170.128 - jieun.kim@daou.co.kr [17/Mar/2022:08:56:34 +0900] GET /api/approval/document/534993 HTTP/1.0 200 6314 \"https://portal.daou.co.kr/app/approval/document/534993/integration\" \"Mozilla/5.0 (Windows NT 10.0; Win64; x64) AppleWebKit/537.36 (KHTML, like Gecko) Chrome/99.0.4844.74 Safari/537.36\" \"-\" 0.169',\n",
    "# '123.2.134.129 - - [17/Mar/2022:08:57:02 +0900] GET /go/login HTTP/1.0 200 10162 \"-\" \"Zabbix\" \"-\" 0.015',\n",
    "# '123.2.134.129 - - [17/Mar/2022:08:58:02 +0900] GET /go/login HTTP/1.0 200 10162 \"-\" \"Zabbix\" \"-\" 0.023',\n",
    "# '123.2.134.129 - - [17/Mar/2022:08:59:04 +0900] GET /go/login HTTP/1.0 200 10162 \"-\" \"Zabbix\" \"-\" 0.017',\n",
    "# '- - - [17/Mar/2022:08:59:29 +0900] GET / HTTP/1.1 302 - \"-\" \"libwww-perl/5.822\" \"-\" 0.019']\n",
    "\n",
    "# columns = [\"ip\",\"user_id\",\"datetime\",\"request\",\"url\",\"status\",\"bytesize\",\"refferer\",\"processing time\", \"browser\", \"OS\", \"device\"]\n",
    "# r= []\n",
    "# def trans_email(t):\n",
    "#     row[1] = t.split(\"@\")[0]\n",
    "    \n",
    "# def extract_UAinfo(ua_string):\n",
    "#     userAgentParser = UserAgentParser()\n",
    "#     UA_info = userAgentParser.get_3layers(ua_string)\n",
    "#     return [UA_info[0],UA_info[1],UA_info[2]]\n",
    "\n",
    "# def trans_time(t):\n",
    "#     print(type(str(pd.to_datetime(t,format='%d/%b/%Y:%H:%M:%S'))))\n",
    "#     row[2] = pd.to_datetime(t,format='%d/%b/%Y:%H:%M:%S')\n",
    "\n",
    "# for s in log:\n",
    "#     s = s.replace('[', '\"').replace(']','\"')\n",
    "#     s =s.split('\"')\n",
    "\n",
    "#     # 1. dataframe 만들기\n",
    "#     row, tmp = [], []\n",
    "#     for i in s:\n",
    "#         if i==' ':\n",
    "#             continue\n",
    "#         i = i.strip()\n",
    "#         tmp.append(i)\n",
    "\n",
    "#     for i in tmp[:3]:\n",
    "#         row += i.split()\n",
    "#     row += tmp[3:]\n",
    "\n",
    "#     # 2. 컬럼제거\n",
    "#     del row[1]\n",
    "#     del row[3]\n",
    "#     del row[5]\n",
    "#     del row[9]\n",
    "\n",
    "#     # 3. email -> userid를 뽑아내기\n",
    "#     trans_email(row[1])\n",
    "\n",
    "#     # 4. 요청 시간 -> datetime형태로 변환\n",
    "#     trans_time(row[2])\n",
    "\n",
    "#     # 5. UA -> browser, OS, device -> 기존컬럼제거\n",
    "#     row += extract_UAinfo(row[8])\n",
    "#     del row[8]\n",
    "\n",
    "#     # 6. 요청처리시간 오류 제거\n",
    "#     row[8] = re.sub(\"-\",\"\",row[8])\n",
    "\n",
    "#     # 7. int형태로 변환\n",
    "#     if row[6] != '-':\n",
    "#         row[6] = int(row[6])\n",
    "#         row[8] = float(row[8])\n",
    "        \n",
    "#     r.append(row)\n",
    "\n",
    "\n",
    "# df = pd.DataFrame(r, columns = columns)  \n",
    "# df\n",
    "\n",
    "s= '123425525asdf'\n",
    "s[-4:-2]"
   ]
  },
  {
   "cell_type": "code",
   "execution_count": null,
   "id": "f3c68ad3",
   "metadata": {},
   "outputs": [],
   "source": []
  }
 ],
 "metadata": {
  "kernelspec": {
   "display_name": "Python 3 (ipykernel)",
   "language": "python",
   "name": "python3"
  },
  "language_info": {
   "codemirror_mode": {
    "name": "ipython",
    "version": 3
   },
   "file_extension": ".py",
   "mimetype": "text/x-python",
   "name": "python",
   "nbconvert_exporter": "python",
   "pygments_lexer": "ipython3",
   "version": "3.9.7"
  }
 },
 "nbformat": 4,
 "nbformat_minor": 5
}
